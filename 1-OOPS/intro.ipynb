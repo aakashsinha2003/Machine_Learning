{
 "cells": [
  {
   "cell_type": "code",
   "execution_count": 2,
   "id": "69d1f2cc",
   "metadata": {},
   "outputs": [
    {
     "name": "stdout",
     "output_type": "stream",
     "text": [
      "<class 'int'>\n"
     ]
    }
   ],
   "source": [
    "a=1\n",
    "print(type(a))"
   ]
  },
  {
   "cell_type": "code",
   "execution_count": 4,
   "id": "5aaebd69",
   "metadata": {},
   "outputs": [
    {
     "name": "stdout",
     "output_type": "stream",
     "text": [
      "<class '__main__.test'>\n"
     ]
    }
   ],
   "source": [
    "class test:\n",
    "    pass\n",
    "a=test()\n",
    "print(type(a))"
   ]
  },
  {
   "cell_type": "code",
   "execution_count": 5,
   "id": "68b00678",
   "metadata": {},
   "outputs": [
    {
     "name": "stdout",
     "output_type": "stream",
     "text": [
      "Hello\n"
     ]
    }
   ],
   "source": [
    "class pw:\n",
    "    def lecture(self):\n",
    "        print(\"Hello\")\n",
    "rohan=pw()\n",
    "rohan.lecture()        \n"
   ]
  },
  {
   "cell_type": "code",
   "execution_count": 6,
   "id": "bf6d8916",
   "metadata": {},
   "outputs": [
    {
     "data": {
      "text/plain": [
       "(19, 'male')"
      ]
     },
     "execution_count": 6,
     "metadata": {},
     "output_type": "execute_result"
    }
   ],
   "source": [
    "class pw1:\n",
    "    def __init__(self,age,gender):\n",
    "        self.age=age\n",
    "        self.gender=gender\n",
    "    def details(self):\n",
    "        return self.age,self.gender\n",
    "aaka=pw1(19,\"male\")\n",
    "aaka.details()            "
   ]
  },
  {
   "cell_type": "code",
   "execution_count": 8,
   "id": "6e889240",
   "metadata": {},
   "outputs": [
    {
     "data": {
      "text/plain": [
       "'C'"
      ]
     },
     "execution_count": 8,
     "metadata": {},
     "output_type": "execute_result"
    }
   ],
   "source": [
    "class pw2:\n",
    "    def __init__(a,age,section):\n",
    "        a.age1=age\n",
    "        a.section1=section\n",
    "    def details(a):\n",
    "        return a.age1,a.section1\n",
    "lak=pw2(19,\"C\")\n",
    "lak.section1          "
   ]
  },
  {
   "cell_type": "code",
   "execution_count": null,
   "id": "f5e2bbee",
   "metadata": {},
   "outputs": [],
   "source": []
  }
 ],
 "metadata": {
  "kernelspec": {
   "display_name": "Python 3",
   "language": "python",
   "name": "python3"
  },
  "language_info": {
   "codemirror_mode": {
    "name": "ipython",
    "version": 3
   },
   "file_extension": ".py",
   "mimetype": "text/x-python",
   "name": "python",
   "nbconvert_exporter": "python",
   "pygments_lexer": "ipython3",
   "version": "3.11.11"
  }
 },
 "nbformat": 4,
 "nbformat_minor": 5
}
