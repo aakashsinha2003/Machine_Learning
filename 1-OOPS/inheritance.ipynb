{
 "cells": [
  {
   "cell_type": "code",
   "execution_count": 1,
   "id": "d28b1bbc",
   "metadata": {},
   "outputs": [],
   "source": [
    "class class1:\n",
    "    def section1(self):\n",
    "        return 1"
   ]
  },
  {
   "cell_type": "code",
   "execution_count": 2,
   "id": "419456a9",
   "metadata": {},
   "outputs": [],
   "source": [
    "class class2:\n",
    "    def section2(self):\n",
    "        return 2"
   ]
  },
  {
   "cell_type": "code",
   "execution_count": 3,
   "id": "9e9184ed",
   "metadata": {},
   "outputs": [],
   "source": [
    "class class3(class1):\n",
    "    def section3(self):\n",
    "        return 3"
   ]
  },
  {
   "cell_type": "code",
   "execution_count": 4,
   "id": "211e9c04",
   "metadata": {},
   "outputs": [],
   "source": [
    "class class4(class3,class2):\n",
    "    def section4(self):\n",
    "        return 4"
   ]
  },
  {
   "cell_type": "code",
   "execution_count": 5,
   "id": "b7eaa0c8",
   "metadata": {},
   "outputs": [],
   "source": [
    "Aakash=class4()"
   ]
  },
  {
   "cell_type": "code",
   "execution_count": 6,
   "id": "ff363e32",
   "metadata": {},
   "outputs": [
    {
     "data": {
      "text/plain": [
       "1"
      ]
     },
     "execution_count": 6,
     "metadata": {},
     "output_type": "execute_result"
    }
   ],
   "source": [
    "Aakash.section1()"
   ]
  },
  {
   "cell_type": "code",
   "execution_count": null,
   "id": "75378590",
   "metadata": {},
   "outputs": [],
   "source": []
  }
 ],
 "metadata": {
  "kernelspec": {
   "display_name": "Python 3",
   "language": "python",
   "name": "python3"
  },
  "language_info": {
   "codemirror_mode": {
    "name": "ipython",
    "version": 3
   },
   "file_extension": ".py",
   "mimetype": "text/x-python",
   "name": "python",
   "nbconvert_exporter": "python",
   "pygments_lexer": "ipython3",
   "version": "3.11.11"
  }
 },
 "nbformat": 4,
 "nbformat_minor": 5
}
