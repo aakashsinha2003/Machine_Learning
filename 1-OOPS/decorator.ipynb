{
 "cells": [
  {
   "cell_type": "code",
   "execution_count": 5,
   "id": "aac0475a",
   "metadata": {},
   "outputs": [],
   "source": [
    "import time\n",
    "def deco(abcd):\n",
    "    def timer():\n",
    "        start=time.time()\n",
    "        abcd()\n",
    "        end=time.time()\n",
    "        print(end-start)\n",
    "    return timer"
   ]
  },
  {
   "cell_type": "code",
   "execution_count": 18,
   "id": "8988b4c6",
   "metadata": {},
   "outputs": [],
   "source": [
    "@deco\n",
    "def func(s=0):\n",
    "    for i in range(1000):\n",
    "        s+=1\n",
    "    print(s)    "
   ]
  },
  {
   "cell_type": "code",
   "execution_count": 19,
   "id": "89e09203",
   "metadata": {},
   "outputs": [
    {
     "name": "stdout",
     "output_type": "stream",
     "text": [
      "1000\n",
      "0.0014986991882324219\n"
     ]
    }
   ],
   "source": [
    "func()"
   ]
  },
  {
   "cell_type": "code",
   "execution_count": null,
   "id": "b9ed74db",
   "metadata": {},
   "outputs": [],
   "source": []
  }
 ],
 "metadata": {
  "kernelspec": {
   "display_name": "Python 3",
   "language": "python",
   "name": "python3"
  },
  "language_info": {
   "codemirror_mode": {
    "name": "ipython",
    "version": 3
   },
   "file_extension": ".py",
   "mimetype": "text/x-python",
   "name": "python",
   "nbconvert_exporter": "python",
   "pygments_lexer": "ipython3",
   "version": "3.11.11"
  }
 },
 "nbformat": 4,
 "nbformat_minor": 5
}
