{
 "cells": [
  {
   "cell_type": "code",
   "execution_count": 1,
   "id": "de013456",
   "metadata": {},
   "outputs": [],
   "source": [
    "class dsa:\n",
    "    def syllabus(self):\n",
    "        print(\"dsa\")"
   ]
  },
  {
   "cell_type": "code",
   "execution_count": 2,
   "id": "c37b678d",
   "metadata": {},
   "outputs": [],
   "source": [
    "class ml:\n",
    "    def syllabus(self):\n",
    "        print(\"ml\")"
   ]
  },
  {
   "cell_type": "code",
   "execution_count": 3,
   "id": "e79cf23d",
   "metadata": {},
   "outputs": [],
   "source": [
    "random=dsa()"
   ]
  },
  {
   "cell_type": "code",
   "execution_count": 4,
   "id": "a51b857e",
   "metadata": {},
   "outputs": [],
   "source": [
    "aakash=ml()"
   ]
  },
  {
   "cell_type": "code",
   "execution_count": 5,
   "id": "d8e01454",
   "metadata": {},
   "outputs": [],
   "source": [
    "student=[aakash,random]"
   ]
  },
  {
   "cell_type": "code",
   "execution_count": 6,
   "id": "355338c5",
   "metadata": {},
   "outputs": [],
   "source": [
    "def course(abc):\n",
    "    for i in abc:\n",
    "        i.syllabus()"
   ]
  },
  {
   "cell_type": "code",
   "execution_count": 7,
   "id": "af81c41e",
   "metadata": {},
   "outputs": [
    {
     "name": "stdout",
     "output_type": "stream",
     "text": [
      "ml\n",
      "dsa\n"
     ]
    }
   ],
   "source": [
    "course(student)"
   ]
  },
  {
   "cell_type": "code",
   "execution_count": null,
   "id": "4f132347",
   "metadata": {},
   "outputs": [],
   "source": []
  }
 ],
 "metadata": {
  "kernelspec": {
   "display_name": "Python 3",
   "language": "python",
   "name": "python3"
  },
  "language_info": {
   "codemirror_mode": {
    "name": "ipython",
    "version": 3
   },
   "file_extension": ".py",
   "mimetype": "text/x-python",
   "name": "python",
   "nbconvert_exporter": "python",
   "pygments_lexer": "ipython3",
   "version": "3.11.11"
  }
 },
 "nbformat": 4,
 "nbformat_minor": 5
}
