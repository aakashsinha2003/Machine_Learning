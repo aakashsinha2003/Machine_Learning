{
 "cells": [
  {
   "cell_type": "code",
   "execution_count": 1,
   "id": "90a922bc",
   "metadata": {},
   "outputs": [],
   "source": [
    "import abc\n"
   ]
  },
  {
   "cell_type": "code",
   "execution_count": 2,
   "id": "0bc17b22",
   "metadata": {},
   "outputs": [],
   "source": [
    "class pwskill:\n",
    "    @abc.abstractmethod\n",
    "    def greet(self):\n",
    "        pass\n",
    "    @abc.abstractmethod\n",
    "    def batch(self):\n",
    "        pass"
   ]
  },
  {
   "cell_type": "code",
   "execution_count": 3,
   "id": "b50b9ae4",
   "metadata": {},
   "outputs": [],
   "source": [
    "class datascience(pwskill):\n",
    "    def greet(self):\n",
    "        return \"welcome to datascience\"\n",
    "    def batch(self):\n",
    "        return \"data\""
   ]
  },
  {
   "cell_type": "code",
   "execution_count": 4,
   "id": "0ba3b308",
   "metadata": {},
   "outputs": [],
   "source": [
    "class dsa(pwskill):\n",
    "    def greet(self):\n",
    "        return \"dsa\""
   ]
  },
  {
   "cell_type": "code",
   "execution_count": 5,
   "id": "55a90872",
   "metadata": {},
   "outputs": [],
   "source": [
    "Aakash=datascience()"
   ]
  },
  {
   "cell_type": "code",
   "execution_count": 6,
   "id": "5bd5c43f",
   "metadata": {},
   "outputs": [
    {
     "data": {
      "text/plain": [
       "'welcome to datascience'"
      ]
     },
     "execution_count": 6,
     "metadata": {},
     "output_type": "execute_result"
    }
   ],
   "source": [
    "Aakash.greet()"
   ]
  },
  {
   "cell_type": "code",
   "execution_count": null,
   "id": "9f1c9966",
   "metadata": {},
   "outputs": [],
   "source": []
  }
 ],
 "metadata": {
  "kernelspec": {
   "display_name": "Python 3",
   "language": "python",
   "name": "python3"
  },
  "language_info": {
   "codemirror_mode": {
    "name": "ipython",
    "version": 3
   },
   "file_extension": ".py",
   "mimetype": "text/x-python",
   "name": "python",
   "nbconvert_exporter": "python",
   "pygments_lexer": "ipython3",
   "version": "3.11.11"
  }
 },
 "nbformat": 4,
 "nbformat_minor": 5
}
