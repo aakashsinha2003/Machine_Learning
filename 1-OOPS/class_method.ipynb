{
 "cells": [
  {
   "cell_type": "code",
   "execution_count": 4,
   "id": "dead0ec2",
   "metadata": {},
   "outputs": [],
   "source": [
    "class pwskills():\n",
    "    def __init__(self,name,roll):\n",
    "        self.name=name\n",
    "        self.roll=roll\n",
    "    @classmethod\n",
    "    def detail(cls,name,roll):\n",
    "        return cls(name,roll)\n",
    "    def return_detail(self):\n",
    "        print(self.name,self.roll)    "
   ]
  },
  {
   "cell_type": "code",
   "execution_count": 5,
   "id": "428972d0",
   "metadata": {},
   "outputs": [],
   "source": [
    "Aakash=pwskills.detail(\"Aakash\",221230001)"
   ]
  },
  {
   "cell_type": "code",
   "execution_count": 6,
   "id": "1ec3f1ef",
   "metadata": {},
   "outputs": [
    {
     "name": "stdout",
     "output_type": "stream",
     "text": [
      "Aakash 221230001\n"
     ]
    }
   ],
   "source": [
    "Aakash.return_detail()"
   ]
  },
  {
   "cell_type": "code",
   "execution_count": 7,
   "id": "8c66e204",
   "metadata": {},
   "outputs": [],
   "source": [
    "class ipl:\n",
    "    season=18\n",
    "    def __init__(self,team):\n",
    "        self.teams=team\n",
    "    @classmethod\n",
    "    def total_teams(cls,teams):\n",
    "        return cls(teams)\n",
    "    @classmethod\n",
    "    def change_season(cls,number):\n",
    "        ipl.season=number\n",
    "    def give_teams(self):\n",
    "        return self.teams    \n"
   ]
  },
  {
   "cell_type": "code",
   "execution_count": 8,
   "id": "5bb5393d",
   "metadata": {},
   "outputs": [],
   "source": [
    "mi=ipl.total_teams(10)"
   ]
  },
  {
   "cell_type": "code",
   "execution_count": 9,
   "id": "ad61b4b7",
   "metadata": {},
   "outputs": [],
   "source": [
    "ipl.change_season(11)"
   ]
  },
  {
   "cell_type": "code",
   "execution_count": 10,
   "id": "b74bdc28",
   "metadata": {},
   "outputs": [
    {
     "data": {
      "text/plain": [
       "11"
      ]
     },
     "execution_count": 10,
     "metadata": {},
     "output_type": "execute_result"
    }
   ],
   "source": [
    "mi.season"
   ]
  },
  {
   "cell_type": "code",
   "execution_count": 15,
   "id": "9711b91b",
   "metadata": {},
   "outputs": [
    {
     "data": {
      "text/plain": [
       "<__main__.ipl at 0x1c13a18e990>"
      ]
     },
     "execution_count": 15,
     "metadata": {},
     "output_type": "execute_result"
    }
   ],
   "source": [
    "ipl.total_teams(15)"
   ]
  },
  {
   "cell_type": "code",
   "execution_count": 16,
   "id": "8eb68b35",
   "metadata": {},
   "outputs": [
    {
     "data": {
      "text/plain": [
       "10"
      ]
     },
     "execution_count": 16,
     "metadata": {},
     "output_type": "execute_result"
    }
   ],
   "source": [
    "mi.give_teams()"
   ]
  },
  {
   "cell_type": "code",
   "execution_count": 17,
   "id": "5c21ba38",
   "metadata": {},
   "outputs": [],
   "source": [
    "def winner(cls,name):\n",
    "    print(\"winner is\",name)"
   ]
  },
  {
   "cell_type": "code",
   "execution_count": 18,
   "id": "04e29930",
   "metadata": {},
   "outputs": [],
   "source": [
    "ipl.winner=classmethod(winner)"
   ]
  },
  {
   "cell_type": "code",
   "execution_count": 19,
   "id": "abbde476",
   "metadata": {},
   "outputs": [
    {
     "name": "stdout",
     "output_type": "stream",
     "text": [
      "winner is csk\n"
     ]
    }
   ],
   "source": [
    "mi.winner(\"csk\")"
   ]
  },
  {
   "cell_type": "code",
   "execution_count": 21,
   "id": "a65079ac",
   "metadata": {},
   "outputs": [
    {
     "name": "stdout",
     "output_type": "stream",
     "text": [
      "winner is mi\n"
     ]
    }
   ],
   "source": [
    "ipl.winner(\"mi\")"
   ]
  },
  {
   "cell_type": "code",
   "execution_count": 22,
   "id": "ec531dde",
   "metadata": {},
   "outputs": [],
   "source": [
    "del ipl.change_season"
   ]
  },
  {
   "cell_type": "code",
   "execution_count": 23,
   "id": "739829ca",
   "metadata": {},
   "outputs": [
    {
     "ename": "AttributeError",
     "evalue": "type object 'ipl' has no attribute 'change_season'",
     "output_type": "error",
     "traceback": [
      "\u001b[31m---------------------------------------------------------------------------\u001b[39m",
      "\u001b[31mAttributeError\u001b[39m                            Traceback (most recent call last)",
      "\u001b[36mCell\u001b[39m\u001b[36m \u001b[39m\u001b[32mIn[23]\u001b[39m\u001b[32m, line 1\u001b[39m\n\u001b[32m----> \u001b[39m\u001b[32m1\u001b[39m \u001b[43mipl\u001b[49m\u001b[43m.\u001b[49m\u001b[43mchange_season\u001b[49m\n",
      "\u001b[31mAttributeError\u001b[39m: type object 'ipl' has no attribute 'change_season'"
     ]
    }
   ],
   "source": [
    "ipl.change_season"
   ]
  },
  {
   "cell_type": "code",
   "execution_count": 24,
   "id": "5bb258a6",
   "metadata": {},
   "outputs": [
    {
     "data": {
      "text/plain": [
       "11"
      ]
     },
     "execution_count": 24,
     "metadata": {},
     "output_type": "execute_result"
    }
   ],
   "source": [
    "ipl.season"
   ]
  },
  {
   "cell_type": "code",
   "execution_count": 25,
   "id": "3cd7e2bf",
   "metadata": {},
   "outputs": [],
   "source": [
    "delattr(ipl,\"season\")"
   ]
  },
  {
   "cell_type": "code",
   "execution_count": 26,
   "id": "954f82cc",
   "metadata": {},
   "outputs": [
    {
     "ename": "AttributeError",
     "evalue": "type object 'ipl' has no attribute 'season'",
     "output_type": "error",
     "traceback": [
      "\u001b[31m---------------------------------------------------------------------------\u001b[39m",
      "\u001b[31mAttributeError\u001b[39m                            Traceback (most recent call last)",
      "\u001b[36mCell\u001b[39m\u001b[36m \u001b[39m\u001b[32mIn[26]\u001b[39m\u001b[32m, line 1\u001b[39m\n\u001b[32m----> \u001b[39m\u001b[32m1\u001b[39m \u001b[43mipl\u001b[49m\u001b[43m.\u001b[49m\u001b[43mseason\u001b[49m\n",
      "\u001b[31mAttributeError\u001b[39m: type object 'ipl' has no attribute 'season'"
     ]
    }
   ],
   "source": [
    "ipl.season"
   ]
  },
  {
   "cell_type": "markdown",
   "id": "0af7058c",
   "metadata": {},
   "source": [
    "🔹 When to use class methods?\n",
    "\n",
    "To modify class-level data.\n",
    "\n",
    "To create factory methods that return instances of the class using different initialization parameters."
   ]
  },
  {
   "cell_type": "code",
   "execution_count": 28,
   "id": "445628f0",
   "metadata": {},
   "outputs": [
    {
     "name": "stdout",
     "output_type": "stream",
     "text": [
      "4\n",
      "6\n",
      "6\n"
     ]
    }
   ],
   "source": [
    "class Car:\n",
    "    wheels = 4  # class variable\n",
    "\n",
    "    def __init__(self, brand):\n",
    "        self.brand = brand  # instance variable\n",
    "\n",
    "    @classmethod\n",
    "    def change_wheels(cls, new_wheel_count):\n",
    "        cls.wheels = new_wheel_count\n",
    "\n",
    "# Before changing wheels\n",
    "print(Car.wheels)  # Output: 4\n",
    "\n",
    "Car.change_wheels(6)\n",
    "\n",
    "# After changing wheels\n",
    "print(Car.wheels)  # Output: 6\n",
    "\n",
    "car1 = Car(\"Toyota\")\n",
    "print(car1.wheels)  # Output: 6\n"
   ]
  },
  {
   "cell_type": "code",
   "execution_count": 29,
   "id": "ffe37d8e",
   "metadata": {},
   "outputs": [
    {
     "name": "stdout",
     "output_type": "stream",
     "text": [
      "Alice 25\n"
     ]
    }
   ],
   "source": [
    "class Person:\n",
    "    def __init__(self, name, age):\n",
    "        self.name = name\n",
    "        self.age = age\n",
    "\n",
    "    @classmethod\n",
    "    def from_birth_year(cls, name, birth_year):\n",
    "        current_year = 2025\n",
    "        age = current_year - birth_year\n",
    "        return cls(name, age)\n",
    "\n",
    "person = Person.from_birth_year(\"Alice\", 2000)\n",
    "print(person.name, person.age)  # Output: Alice 25\n"
   ]
  },
  {
   "cell_type": "code",
   "execution_count": null,
   "id": "c390df56",
   "metadata": {},
   "outputs": [],
   "source": []
  }
 ],
 "metadata": {
  "kernelspec": {
   "display_name": "Python 3",
   "language": "python",
   "name": "python3"
  },
  "language_info": {
   "codemirror_mode": {
    "name": "ipython",
    "version": 3
   },
   "file_extension": ".py",
   "mimetype": "text/x-python",
   "name": "python",
   "nbconvert_exporter": "python",
   "pygments_lexer": "ipython3",
   "version": "3.11.11"
  }
 },
 "nbformat": 4,
 "nbformat_minor": 5
}
